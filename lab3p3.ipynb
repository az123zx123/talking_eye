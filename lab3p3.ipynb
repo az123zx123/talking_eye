{
 "cells": [
  {
   "cell_type": "code",
   "execution_count": 5,
   "metadata": {},
   "outputs": [],
   "source": [
    "import os\n",
    "os.environ[\"KMP_DUPLICATE_LIB_OK\"]=\"TRUE\"\n",
    "from ultralytics import YOLO"
   ]
  },
  {
   "cell_type": "code",
   "execution_count": null,
   "metadata": {},
   "outputs": [],
   "source": [
    "# Load the exported FP32 model\n",
    "model = YOLO(\"./best.engine\", task=\"detect\")\n",
    "# Run inference get speed\n",
    "metrics = model.predict(\"./val\")\n"
   ]
  },
  {
   "cell_type": "code",
   "execution_count": null,
   "metadata": {},
   "outputs": [],
   "source": [
    "# Load the exported FP16 model\n",
    "model = YOLO(\"./best_half.engine\", task=\"detect\")\n",
    "# Run inference get speed\n",
    "metrics = model.predict(\"./val\")"
   ]
  },
  {
   "cell_type": "code",
   "execution_count": null,
   "metadata": {},
   "outputs": [],
   "source": [
    "# Load the exported FP16 model\n",
    "model = YOLO(\"./best_int.engine\", task=\"detect\")\n",
    "# Run inference get speed\n",
    "metrics = model.predict(\"./val\")"
   ]
  }
 ],
 "metadata": {
  "kernelspec": {
   "display_name": "11767",
   "language": "python",
   "name": "python3"
  },
  "language_info": {
   "codemirror_mode": {
    "name": "ipython",
    "version": 3
   },
   "file_extension": ".py",
   "mimetype": "text/x-python",
   "name": "python",
   "nbconvert_exporter": "python",
   "pygments_lexer": "ipython3",
   "version": "3.12.7"
  }
 },
 "nbformat": 4,
 "nbformat_minor": 2
}
